{
  "nbformat": 4,
  "nbformat_minor": 0,
  "metadata": {
    "colab": {
      "name": "LSTM",
      "provenance": [],
      "collapsed_sections": [],
      "history_visible": true
    },
    "kernelspec": {
      "name": "python3",
      "display_name": "Python 3"
    },
    "language_info": {
      "name": "python"
    }
  },
  "cells": [
    {
      "cell_type": "code",
      "metadata": {
        "id": "0f1-nNtRiyy6"
      },
      "source": [
        "import pandas as pd\n",
        "import matplotlib.pyplot as plt\n",
        "import tensorflow as tf\n",
        "from tensorflow import keras\n",
        "import datetime"
      ],
      "execution_count": 173,
      "outputs": []
    },
    {
      "cell_type": "code",
      "metadata": {
        "colab": {
          "base_uri": "https://localhost:8080/"
        },
        "id": "yOF78v99jeI9",
        "outputId": "37c0b93b-de72-4442-daf2-029f17929d69"
      },
      "source": [
        "from zipfile import ZipFile\n",
        "import os\n",
        "\n",
        "uri = \"https://storage.googleapis.com/tensorflow/tf-keras-datasets/jena_climate_2009_2016.csv.zip\"\n",
        "zip_path = keras.utils.get_file(origin=uri, fname=\"jena_climate_2009_2016.csv.zip\")\n",
        "zip_file = ZipFile(zip_path)\n",
        "zip_file.extractall()\n",
        "csv_path = \"jena_climate_2009_2016.csv\"\n",
        "\n",
        "df = pd.read_csv(csv_path)"
      ],
      "execution_count": 2,
      "outputs": [
        {
          "output_type": "stream",
          "text": [
            "Downloading data from https://storage.googleapis.com/tensorflow/tf-keras-datasets/jena_climate_2009_2016.csv.zip\n",
            "13574144/13568290 [==============================] - 0s 0us/step\n"
          ],
          "name": "stdout"
        }
      ]
    },
    {
      "cell_type": "code",
      "metadata": {
        "id": "mQanQYOjrKG_"
      },
      "source": [
        "def series_to_supervised(data, n_in=1, n_out=1, dropnan=True):\n",
        "    \"\"\"Turns a timeseries into a supervised series\n",
        "    which can be used with supvervised learning methods\n",
        "\n",
        "    Args:\n",
        "        data ([type]): Usually a dataframe\n",
        "        n_in (int, optional): Lag of the input. Defaults to 1.\n",
        "        n_out (int, optional): how many Timesteps forecast into the future. Defaults to 1.\n",
        "        dropnan (bool, optional): Drop rows that contain NaN values. Defaults to True.\n",
        "\n",
        "    Returns:\n",
        "        Dataframe: Dataframe with lag and output\n",
        "    \"\"\"\n",
        "    n_vars = 1 if type(data) is list else data.shape[1]\n",
        "    df = pd.DataFrame(data)\n",
        "    cols, names = list(), list()\n",
        "    # input sequence (t-n, ... t-1)\n",
        "    for i in range(n_in, 0, -1):\n",
        "        cols.append(df.shift(i))\n",
        "        names += [('{}(t-{})'.format(data.columns[j], i))\n",
        "                  for j in range(n_vars)]\n",
        "    # forecast sequence (t, t+1, ... t+n)\n",
        "    for i in range(0, n_out):\n",
        "        cols.append(df.shift(-i))\n",
        "        if i == 0:\n",
        "            names += [('{}(t)'.format(data.columns[j]))\n",
        "                      for j in range(n_vars)]\n",
        "        else:\n",
        "            names += [('{}(t+{})'.format(data.columns[j], i))\n",
        "                      for j in range(n_vars)]\n",
        "    # put it all together\n",
        "    agg = pd.concat(cols, axis=1)\n",
        "    agg.columns = names\n",
        "    # drop rows with NaN values\n",
        "    if dropnan:\n",
        "        agg.dropna(inplace=True)\n",
        "    return agg"
      ],
      "execution_count": 42,
      "outputs": []
    },
    {
      "cell_type": "code",
      "metadata": {
        "colab": {
          "base_uri": "https://localhost:8080/",
          "height": 425
        },
        "id": "h-NK0UvQktga",
        "outputId": "28f4232e-5e15-4770-86ab-cf93c8060c40"
      },
      "source": [
        "data = df.copy()\n",
        "data[\"Date Time\"] = pd.to_datetime(data[\"Date Time\"],format=\"%d.%m.%Y %H:%M:%S\")\n",
        "data.set_index(\"Date Time\",inplace=True)\n",
        "data = data.resample(\"1h\").mean()\n",
        "\n",
        "series = data[['T (degC)', \"p (mbar)\"]]\n",
        "series.rename(columns={'T (degC)':\"temp\",\"p (mbar)\":\"p\"},inplace=True)\n",
        "series_section = series[\"2009-04-01\":\"2009-04-03\"]\n",
        "series_section[\"temp\"].plot()"
      ],
      "execution_count": 64,
      "outputs": [
        {
          "output_type": "stream",
          "text": [
            "/usr/local/lib/python3.7/dist-packages/pandas/core/frame.py:4308: SettingWithCopyWarning: \n",
            "A value is trying to be set on a copy of a slice from a DataFrame\n",
            "\n",
            "See the caveats in the documentation: https://pandas.pydata.org/pandas-docs/stable/user_guide/indexing.html#returning-a-view-versus-a-copy\n",
            "  errors=errors,\n"
          ],
          "name": "stderr"
        },
        {
          "output_type": "execute_result",
          "data": {
            "text/plain": [
              "<matplotlib.axes._subplots.AxesSubplot at 0x7fc45276da50>"
            ]
          },
          "metadata": {
            "tags": []
          },
          "execution_count": 64
        },
        {
          "output_type": "display_data",
          "data": {
            "image/png": "[encoded data removed]",
            "text/plain": [
              "<Figure size 432x288 with 1 Axes>"
            ]
          },
          "metadata": {
            "tags": [],
            "needs_background": "light"
          }
        }
      ]
    },
    {
      "cell_type": "code",
      "metadata": {
        "id": "HHkSNa4tp4Sv"
      },
      "source": [
        "def getXandY(df_temp, start, stop):\n",
        "    dataframe = scaler.transform(df_temp[start:stop])\n",
        "    dataframe = pd.DataFrame(dataframe)\n",
        "    \n",
        "    dataframe = dataframe.rename(columns={0:\"temperature\"})\n",
        "    dataframe.index = df_temp[start:stop].index\n",
        "\n",
        "    dataframe_shifted = series_to_supervised(dataframe,Timesteps_past-1,Timesteps_future+1)\n",
        "\n",
        "    X_dataframe = dataframe_shifted[dataframe_shifted.columns.drop(list(dataframe_shifted.filter(regex='\\+')))]\n",
        "    y_dataframe = dataframe_shifted.filter(regex='temperature\\(t\\+')\n",
        "\n",
        "    X_dataframe = X_dataframe.to_numpy()\n",
        "    y_dataframe = y_dataframe.to_numpy()\n",
        "\n",
        "    X_dataframe = X_dataframe.reshape(X_dataframe.shape[0], Timesteps_past, Features) # (samples, time steps, features).\n",
        "\n",
        "    print(X_dataframe.shape,y_dataframe.shape)\n",
        "\n",
        "    return X_dataframe, y_dataframe, dataframe_shifted"
      ],
      "execution_count": 93,
      "outputs": []
    },
    {
      "cell_type": "code",
      "metadata": {
        "colab": {
          "base_uri": "https://localhost:8080/"
        },
        "id": "IJUOYsN0qWsk",
        "outputId": "218fefa6-68c3-4eb2-ce66-e3f2688f3c07"
      },
      "source": [
        "from sklearn.preprocessing import MinMaxScaler\n",
        "\n",
        "Timesteps_past = 24\n",
        "Features = 2\n",
        "Timesteps_future = 12\n",
        "\n",
        "\n",
        "scaler = MinMaxScaler().fit(series[\"2009-01-01\":\"2009-12-31\"])\n",
        "scaler_for_rescale = MinMaxScaler().fit(series[\"2009-01-01\":\"2009-12-31\"][[\"temp\"]])\n",
        "\n",
        "X_train, y_train, train_shifted = getXandY(series, \"2009-01-01\", \"2010-12-31\")\n",
        "X_valid, y_valid, valid_shifted = getXandY(series, \"2011-01-01\", \"2012-12-31\")\n",
        "X_test, y_test, test_shifted = getXandY(series, \"2012-01-01\", \"2012-06-15\")"
      ],
      "execution_count": 201,
      "outputs": [
        {
          "output_type": "stream",
          "text": [
            "(17485, 24, 2) (17485, 12)\n",
            "(17509, 24, 2) (17509, 12)\n",
            "(3973, 24, 2) (3973, 12)\n"
          ],
          "name": "stdout"
        }
      ]
    },
    {
      "cell_type": "code",
      "metadata": {
        "id": "jhQPlVdYrEko"
      },
      "source": [
        "from tensorflow.keras.callbacks import EarlyStopping\n",
        "from tensorflow.keras.layers import GRU, Dense\n",
        "from tensorflow.keras.models import Model, Sequential"
      ],
      "execution_count": 202,
      "outputs": []
    },
    {
      "cell_type": "code",
      "metadata": {
        "colab": {
          "base_uri": "https://localhost:8080/"
        },
        "id": "s8S804XDrjHT",
        "outputId": "9c57d316-1ee0-45f5-d7b4-dfa8caa20f2d"
      },
      "source": [
        "from keras.layers.recurrent import LSTM\n",
        "\n",
        "# define parameters\n",
        "verbose, epochs, batch_size = 2, 5, 4\n",
        "\n",
        "n_timesteps, n_features, n_outputs = X_train.shape[1], X_train.shape[2], y_train.shape[1]\n",
        "\n",
        "# define model\n",
        "model = Sequential()\n",
        "model.add(LSTM(10, activation='relu', input_shape=(n_timesteps, n_features)))\n",
        "model.add(Dense(n_outputs))\n",
        "model.compile(loss='mse', optimizer='adam')\n",
        "model.summary()\n",
        "earlystop = EarlyStopping(monitor=\"val_loss\", min_delta=0, patience=5)\n"
      ],
      "execution_count": 203,
      "outputs": [
        {
          "output_type": "stream",
          "text": [
            "Model: \"sequential_8\"\n",
            "_________________________________________________________________\n",
            "Layer (type)                 Output Shape              Param #   \n",
            "=================================================================\n",
            "lstm_8 (LSTM)                (None, 10)                520       \n",
            "_________________________________________________________________\n",
            "dense_12 (Dense)             (None, 12)                132       \n",
            "=================================================================\n",
            "Total params: 652\n",
            "Trainable params: 652\n",
            "Non-trainable params: 0\n",
            "_________________________________________________________________\n"
          ],
          "name": "stdout"
        }
      ]
    },
    {
      "cell_type": "code",
      "metadata": {
        "colab": {
          "base_uri": "https://localhost:8080/"
        },
        "id": "Kbd3vLhir2Ms",
        "outputId": "cbd9ee11-ee82-4814-aed5-e87f7e4b599a"
      },
      "source": [
        "model.fit(X_train, y_train, epochs=epochs, batch_size=batch_size, verbose=verbose,validation_data=(X_valid, y_valid),callbacks=[earlystop])"
      ],
      "execution_count": 204,
      "outputs": [
        {
          "output_type": "stream",
          "text": [
            "Epoch 1/5\n",
            "4372/4372 - 41s - loss: 0.0103 - val_loss: 0.0052\n",
            "Epoch 2/5\n",
            "4372/4372 - 38s - loss: 0.0046 - val_loss: 0.0050\n",
            "Epoch 3/5\n",
            "4372/4372 - 39s - loss: 0.0043 - val_loss: 0.0051\n",
            "Epoch 4/5\n",
            "4372/4372 - 38s - loss: 0.0040 - val_loss: 0.0039\n",
            "Epoch 5/5\n",
            "4372/4372 - 38s - loss: 0.0030 - val_loss: 0.0030\n"
          ],
          "name": "stdout"
        },
        {
          "output_type": "execute_result",
          "data": {
            "text/plain": [
              "<tensorflow.python.keras.callbacks.History at 0x7fc44f5d4a90>"
            ]
          },
          "metadata": {
            "tags": []
          },
          "execution_count": 204
        }
      ]
    },
    {
      "cell_type": "code",
      "metadata": {
        "id": "UhLmttCZ8OIC"
      },
      "source": [
        "predictions = model.predict(X_test)"
      ],
      "execution_count": 205,
      "outputs": []
    },
    {
      "cell_type": "code",
      "metadata": {
        "id": "kQWuCgIvCdOk"
      },
      "source": [
        "df_prediction = pd.DataFrame(predictions)\n",
        "df_prediction.index = test_shifted.index\n",
        "\n",
        "df_actual = test_shifted.filter(regex=\"temperature\\(t\\+\")\n"
      ],
      "execution_count": 206,
      "outputs": []
    },
    {
      "cell_type": "code",
      "metadata": {
        "id": "zdTu16d7Ft4G"
      },
      "source": [
        "import warnings\n",
        "warnings.filterwarnings(\"ignore\")\n",
        "\n",
        "for col in df_prediction.columns:\n",
        "    df_prediction[[col]] = scaler_for_rescale.inverse_transform(df_prediction[[col]])\n",
        "for col in df_actual.columns:\n",
        "    df_actual[[col]] = scaler_for_rescale.inverse_transform(df_actual[[col]])"
      ],
      "execution_count": 207,
      "outputs": []
    },
    {
      "cell_type": "code",
      "metadata": {
        "colab": {
          "base_uri": "https://localhost:8080/"
        },
        "id": "NW7D6sKm8Pds",
        "outputId": "5d58cd83-109e-456d-80fb-7a32b7971490"
      },
      "source": [
        "from sklearn.metrics import mean_squared_error, mean_absolute_error, r2_score\n",
        "\n",
        "print(\"Evaluation:\")\n",
        "print('   Mean squared error: {}'.format(mean_squared_error(df_prediction, df_actual)))\n",
        "print('   Mean absolute error: {}'.format(mean_absolute_error(df_prediction, df_actual)))\n",
        "print('   Coefficient of determination: {}'.format(r2_score(df_prediction, df_actual)))"
      ],
      "execution_count": 208,
      "outputs": [
        {
          "output_type": "stream",
          "text": [
            "Evaluation:\n",
            "   Mean squared error: 10.139566544680289\n",
            "   Mean absolute error: 2.4804039716965725\n",
            "   Coefficient of determination: 0.8286635249790013\n"
          ],
          "name": "stdout"
        }
      ]
    },
    {
      "cell_type": "code",
      "metadata": {
        "colab": {
          "base_uri": "https://localhost:8080/"
        },
        "id": "G_UetFnlCZSO",
        "outputId": "0270a885-f08b-4a0d-e66d-0cec59a122b5"
      },
      "source": [
        "print(\"Evaluation:\")\n",
        "print('   Mean squared error: {}'.format(mean_squared_error(predictions, y_test)))\n",
        "print('   Mean absolute error: {}'.format(mean_absolute_error(predictions, y_test)))\n",
        "print('   Coefficient of determination: {}'.format(r2_score(predictions, y_test)))"
      ],
      "execution_count": 209,
      "outputs": [
        {
          "output_type": "stream",
          "text": [
            "Evaluation:\n",
            "   Mean squared error: 109.22314548823606\n",
            "   Mean absolute error: 8.949381387224781\n",
            "   Coefficient of determination: -0.764944295766257\n"
          ],
          "name": "stdout"
        }
      ]
    },
    {
      "cell_type": "code",
      "metadata": {
        "id": "s8_Cddu7IYax"
      },
      "source": [
        "def transformTestData(y_test, colName):\n",
        "    ydf = y_test.to_frame()\n",
        "    df_compare = pd.DataFrame()\n",
        "    list1 = []\n",
        "    for i, row in enumerate(ydf.iterrows()):\n",
        "        list1.append([pd.to_datetime(ydf.columns[0]) + datetime.timedelta(hours=(i+1)),\n",
        "        ydf.iloc[i][0]])\n",
        "    df_compare = df_compare.append(list1)\n",
        "    df_compare = df_compare.set_index(0)\n",
        "    df_compare.columns= [colName]\n",
        "    return df_compare"
      ],
      "execution_count": 238,
      "outputs": []
    },
    {
      "cell_type": "code",
      "metadata": {
        "colab": {
          "base_uri": "https://localhost:8080/",
          "height": 279
        },
        "id": "RwJR4U70ImDX",
        "outputId": "7b03c363-f894-4be9-c38d-13a62b7174e8"
      },
      "source": [
        "i = 130\n",
        "a = transformTestData(df_actual.iloc[i],\"actual\")\n",
        "for j in range(1):\n",
        "  p = transformTestData(df_prediction.iloc[i+j],\"prediction\")\n",
        "  ax1 = series[\"2012-01-01\":\"2012-06-15\"][\"temp\"][i+24:i+12+24].plot()\n",
        "  p.plot(ax=ax1)\n",
        "  "
      ],
      "execution_count": 285,
      "outputs": [
        {
          "output_type": "display_data",
          "data": {
            "image/png": "[encoded data removed]",
            "text/plain": [
              "<Figure size 432x288 with 1 Axes>"
            ]
          },
          "metadata": {
            "tags": [],
            "needs_background": "light"
          }
        }
      ]
    },
    {
      "cell_type": "code",
      "metadata": {
        "colab": {
          "base_uri": "https://localhost:8080/",
          "height": 296
        },
        "id": "Cavm-7sgNuUe",
        "outputId": "fb72a399-8714-4ab1-d82a-2cbe5a8bc21d"
      },
      "source": [
        "series[\"2011-01-01\":\"2011-06-15\"][\"temp\"][i+24:i+12+24].plot()"
      ],
      "execution_count": 284,
      "outputs": [
        {
          "output_type": "execute_result",
          "data": {
            "text/plain": [
              "<matplotlib.axes._subplots.AxesSubplot at 0x7fc44d04a050>"
            ]
          },
          "metadata": {
            "tags": []
          },
          "execution_count": 284
        },
        {
          "output_type": "display_data",
          "data": {
            "image/png": "[encoded data removed]",
            "text/plain": [
              "<Figure size 432x288 with 1 Axes>"
            ]
          },
          "metadata": {
            "tags": [],
            "needs_background": "light"
          }
        }
      ]
    },
    {
      "cell_type": "code",
      "metadata": {
        "colab": {
          "base_uri": "https://localhost:8080/",
          "height": 296
        },
        "id": "U_npNpZnTKfu",
        "outputId": "6f847cba-1f8a-4804-b75c-095225221342"
      },
      "source": [
        "series[\"2010-01-01\":\"2010-06-15\"][\"temp\"][i+24:i+12+24].plot()"
      ],
      "execution_count": 286,
      "outputs": [
        {
          "output_type": "execute_result",
          "data": {
            "text/plain": [
              "<matplotlib.axes._subplots.AxesSubplot at 0x7fc44c9da990>"
            ]
          },
          "metadata": {
            "tags": []
          },
          "execution_count": 286
        },
        {
          "output_type": "display_data",
          "data": {
            "image/png": "[encoded data removed]",
            "text/plain": [
              "<Figure size 432x288 with 1 Axes>"
            ]
          },
          "metadata": {
            "tags": [],
            "needs_background": "light"
          }
        }
      ]
    },
    {
      "cell_type": "code",
      "metadata": {
        "id": "a1S4M3MfTM1p"
      },
      "source": [
        ""
      ],
      "execution_count": null,
      "outputs": []
    }
  ]
}